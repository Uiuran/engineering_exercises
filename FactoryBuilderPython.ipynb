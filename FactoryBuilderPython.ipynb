{
  "nbformat": 4,
  "nbformat_minor": 0,
  "metadata": {
    "colab": {
      "name": "FactoryBuilderPython.ipynb",
      "provenance": [],
      "collapsed_sections": [],
      "authorship_tag": "ABX9TyPwZ8jWKcL1NA0gRrX93P+y",
      "include_colab_link": true
    },
    "kernelspec": {
      "name": "python3",
      "display_name": "Python 3"
    }
  },
  "cells": [
    {
      "cell_type": "markdown",
      "metadata": {
        "id": "view-in-github",
        "colab_type": "text"
      },
      "source": [
        "<a href=\"https://colab.research.google.com/github/Uiuran/engineering_exercises/blob/master/FactoryBuilderPython.ipynb\" target=\"_parent\"><img src=\"https://colab.research.google.com/assets/colab-badge.svg\" alt=\"Open In Colab\"/></a>"
      ]
    },
    {
      "cell_type": "markdown",
      "metadata": {
        "colab_type": "text",
        "heading_collapsed": true,
        "id": "Vmvkr-1rKxz0"
      },
      "source": [
        "# Factory Builder Exercises\n",
        "\n",
        "Designing a simple misture of Factories, Builder.\n",
        "\n",
        "Person builder. \n",
        "\n",
        "Factory that works altogether with Person builder, by using context in factory code structure.\n",
        "\n",
        "\n"
      ]
    },
    {
      "cell_type": "code",
      "metadata": {
        "colab_type": "code",
        "hidden": true,
        "id": "EWi6rvNES7uS",
        "run_control": {
          "marked": true
        },
        "colab": {}
      },
      "source": [
        "# Builder and Factories\n",
        "from enum import Enum\n",
        "\n",
        "class Person:\n",
        "\n",
        "  def __init__(self):\n",
        "    pass\n",
        "      \n",
        "  def __str__(self):    \n",
        "    return str(self.__dict__)\n",
        "\n",
        "  def __add__(self, person):\n",
        "    attr = [\"info\",\"name\",\"job\",\"position\"]\n",
        "    for a in attr:\n",
        "      if hasattr(self, a) or hasattr(person, a):                        \n",
        "        if hasattr(self, a) and hasattr(person, a):          \n",
        "          v = getattr(self, a) or 0        \n",
        "          c = getattr(person, a) or 0\n",
        "          if v and c:  \n",
        "            if not issubclass(v.__class__,list):\n",
        "              v = [v]              \n",
        "            v.insert(-1,c)\n",
        "            setattr(self, a, v)            \n",
        "        elif hasattr(person, a):          \n",
        "          c = getattr(person, a) or 0\n",
        "          if c:\n",
        "            setattr(self, a, c)\n",
        "        elif hasattr(self, a):          \n",
        "          v = getattr(self, a) or 0\n",
        "          if v:\n",
        "            setattr(self, a, v)\n",
        "        else:\n",
        "          delattr(self, a)\n",
        "    return self\n",
        "\n",
        "  @staticmethod\n",
        "  def new():\n",
        "      return PersonBuilder()\n",
        "\n",
        "class PersonBuilder:\n",
        "  def __init__(self):\n",
        "      self.person = Person()\n",
        "  def build(self):\n",
        "      return self.person\n",
        "\n",
        "class PersonInfoBuilder(PersonBuilder):\n",
        "  def called(self, name):\n",
        "      self.person.name = name\n",
        "      return self\n",
        "\n",
        "class PersonJobBuilder(PersonBuilder):\n",
        "  def works_as_a(self, job):\n",
        "      self.person.job = job\n",
        "      return self\n",
        "\n",
        "class PersonPositionBuilder(PersonJobBuilder):\n",
        "  def position(self, position):\n",
        "      self.person.position = position\n",
        "      return self\n",
        "\n",
        "class PersonBuilderFactory:  \n",
        "\n",
        "  class PersonInfo(Enum):\n",
        "    FACTORY = 0\n",
        "    INFO = 1\n",
        "    JOB = 2\n",
        "    POSITION = 3  \n",
        "\n",
        "  def __init__(self, info, builder_type):\n",
        "    self.info=info\n",
        "    self.build=builder_type\n",
        "    self.builder = []\n",
        "\n",
        "  def __enter__(self):\n",
        "    return self(self.info, self.build)\n",
        "\n",
        "  def __exit__(self, exc_type, exc_val, exc_tb):    \n",
        "    global person\n",
        "    person = self.builder[0].build()      \n",
        "    for i in range(1,len(self.builder)):               \n",
        "      person += self.builder[i].build()\n",
        "    del self    \n",
        "\n",
        "  def __call__(self, info, build):\n",
        "    if build == 1:      \n",
        "      self.builder.append(PersonInfoBuilder().called(info))\n",
        "    elif build == 2:\n",
        "      self.builder.append(PersonJobBuilder().works_as_a(info))\n",
        "    elif build == 3:\n",
        "      self.builder.append(PersonPositionBuilder().position(info))    \n",
        "    else:      \n",
        "      raise Exception(\"Not Found\")\n",
        "\n",
        "    return self  \n"
      ],
      "execution_count": 0,
      "outputs": []
    },
    {
      "cell_type": "code",
      "metadata": {
        "colab_type": "code",
        "hidden": true,
        "id": "CMCwyssVvHTP",
        "outputId": "7e4e4164-d79c-4017-ff02-c636db9763af",
        "colab": {
          "base_uri": "https://localhost:8080/",
          "height": 35
        }
      },
      "source": [
        "def test_context_factory_builder():\n",
        "  with PersonBuilderFactory(\"info 0\", 3) as factory:  \n",
        "    factory(\"OOK\",1)\n",
        "    factory(\"AOK\",1)\n",
        "    factory.builder[0].position('dev').works_as_a(\"programmer\")\n",
        "    factory(\"attendent\",2)\n",
        "    factory(\"marketing\",2)\n",
        "    factory(\"asdfr\",1)\n",
        "\n",
        "  print(person)\n",
        "\n",
        "test_context_factory_builder()"
      ],
      "execution_count": 0,
      "outputs": [
        {
          "output_type": "stream",
          "text": [
            "{'position': 'dev', 'job': ['attendent', 'marketing', 'programmer'], 'name': ['AOK', 'asdfr', 'OOK']}\n"
          ],
          "name": "stdout"
        }
      ]
    },
    {
      "cell_type": "markdown",
      "metadata": {
        "id": "bLcR5mPJsHJN",
        "colab_type": "text"
      },
      "source": [
        ""
      ]
    },
    {
      "cell_type": "code",
      "metadata": {
        "id": "-ZWPBqkhsIDG",
        "colab_type": "code",
        "colab": {}
      },
      "source": [
        "import copy\n",
        "\n",
        "\n",
        "class Address:\n",
        "    def __init__(self, street_address, suite, city):\n",
        "        self.suite = suite\n",
        "        self.city = city\n",
        "        self.street_address = street_address\n",
        "\n",
        "    def __str__(self):\n",
        "        return f'{self.street_address}, Suite #{self.suite}, {self.city}'\n",
        "\n",
        "class Employee:\n",
        "    def __init__(self, name, address):\n",
        "        self.address = address\n",
        "        self.name = name\n",
        "\n",
        "    def __str__(self):\n",
        "        return f'{self.name} works at {self.address}'\n",
        "\n",
        "\n",
        "class EmployeeFactory:\n",
        "\n",
        "    main_office_employee = Employee(\"\", Address(\"123 East Dr\", 0, \"London\"))\n",
        "    aux_office_employee = Employee(\"\", Address(\"123B East Dr\", 0, \"London\"))\n",
        "\n",
        "    @staticmethod\n",
        "    def __new_employee(proto, name, suite):\n",
        "        result = copy.deepcopy(proto)\n",
        "        result.name = name\n",
        "        result.address.suite = suite\n",
        "        return result\n",
        "\n",
        "    @staticmethod\n",
        "    def new_main_office_employee(name, suite):\n",
        "        return EmployeeFactory.__new_employee(\n",
        "            EmployeeFactory.main_office_employee,\n",
        "            name, suite\n",
        "        )\n",
        "\n",
        "    @staticmethod\n",
        "    def new_aux_office_employee(name, suite):\n",
        "        return EmployeeFactory.__new_employee(\n",
        "            EmployeeFactory.aux_office_employee,\n",
        "            name, suite\n",
        "        )\n",
        "\n",
        "# main_office_employee = Employee(\"\", Address(\"123 East Dr\", 0, \"London\"))\n",
        "# aux_office_employee = Employee(\"\", Address(\"123B East Dr\", 0, \"London\"))\n",
        "\n",
        "# john = copy.deepcopy(main_office_employee)\n",
        "#john.name = \"John\"\n",
        "#john.address.suite = 101\n",
        "#print(john)\n",
        "\n",
        "# would prefer to write just one line of code\n",
        "jane = EmployeeFactory.new_aux_office_employee(\"Jane\", 200)\n",
        "print(jane)\n"
      ],
      "execution_count": 0,
      "outputs": []
    }
  ]
}