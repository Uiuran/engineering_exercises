{
  "nbformat": 4,
  "nbformat_minor": 0,
  "metadata": {
    "colab": {
      "name": "ChainOfBuilders",
      "provenance": [],
      "collapsed_sections": [],
      "authorship_tag": "ABX9TyPcjq46UEA0HEZEQCLHDHbg",
      "include_colab_link": true
    },
    "kernelspec": {
      "name": "python3",
      "display_name": "Python 3"
    }
  },
  "cells": [
    {
      "cell_type": "markdown",
      "metadata": {
        "id": "view-in-github",
        "colab_type": "text"
      },
      "source": [
        "<a href=\"https://colab.research.google.com/github/Uiuran/engineering_exercises/blob/master/ChainOfBuilders.ipynb\" target=\"_parent\"><img src=\"https://colab.research.google.com/assets/colab-badge.svg\" alt=\"Open In Colab\"/></a>"
      ]
    },
    {
      "cell_type": "markdown",
      "metadata": {
        "id": "yls17i7jgXNX",
        "colab_type": "text"
      },
      "source": [
        "# Chain of Responsability\n"
      ]
    },
    {
      "cell_type": "code",
      "metadata": {
        "colab_type": "code",
        "hidden": true,
        "id": "EWi6rvNES7uS",
        "run_control": {
          "marked": true
        },
        "colab": {}
      },
      "source": [
        "# Builder and Factories\n",
        "from enum import Enum\n",
        "\n",
        "class Builder:\n",
        "  def __init__(self):\n",
        "      ''' \n",
        "        Implement an abstract builder as chain of responsability\n",
        "\n",
        "        For that each next_builder will be a instance inheriting Builder itself.\n",
        "        add_builder function delegates the task of building to next builder by using add_builder inherited or\n",
        "          by assigning to it if next_builder is None (i.e. the abstract class was called to create the inherited object but no builder was added yet).\n",
        "        \n",
        "        build() handles the task by calling the overriding method of the builder child classes through the recursive build classes of the parent.\n",
        "\n",
        "      '''\n",
        "      \n",
        "      #self.person = Person()\n",
        "      self.next_builder = None\n",
        "\n",
        "  def build(self, *args, **kwargs):\n",
        "      if self.next_builder:\n",
        "          return self.next_builder.build(*args,**kwargs)\n",
        "\n",
        "  def add_builder(self, builder):\n",
        "      if self.next_builder:\n",
        "        self.next_builder.add_builder(builder)\n",
        "      else:\n",
        "        self.next_builder = builder\n",
        "\n",
        "class Person(Builder):\n",
        "\n",
        "  def __init__(self, name, position, *args, **kwargs):\n",
        "    super().__init__()\n",
        "    self.name = name\n",
        "    self.position = position    \n",
        "      \n",
        "  def __str__(self):    \n",
        "    return str(self.__dict__)     \n",
        "  \n",
        "  def build(self, *args, **kwargs):\n",
        "      '''\n",
        "        Function calls the Parent builder and recursively calls itself to do the task of building\n",
        "      '''\n",
        "      print(self.name)\n",
        "      print(self.position)\n",
        "      super().build(*args,**kwargs)      \n",
        "           \n",
        "\n",
        "class ImgPreprocessing(Builder):\n",
        "\n",
        "  def __init__(self,*args,**kwargs):\n",
        "      super().__init__()\n",
        "      self.img = None\n",
        "      if \"img\" in kwargs:\n",
        "        self.img = kwargs[\"img\"]\n",
        "\n",
        "  def build(self, *args, **kwargs):\n",
        "      print(self.img)\n",
        "      super().build(*args,**kwargs)\n",
        "      return self\n",
        "\n",
        "class Factory(Builder):  \n",
        "\n",
        "  def __init__(self, info):\n",
        "    super().__init__()\n",
        "    self.info=info\n",
        "    \n",
        "    #self.builder = []\n",
        "\n",
        "  def __enter__(self, *args, **kwargs):\n",
        "    return self\n",
        "\n",
        "  def __exit__(self, exc_type, exc_val, exc_tb):    \n",
        "    print(self.info)\n",
        "    print(\"\\n\")\n",
        "    print(\"Exiting ...\")\n",
        "    super().build()\n",
        "\n",
        "  def __call__(self, build, *args, **kwargs):        \n",
        "    super().add_builder(build(*args,**kwargs))\n",
        "    return self  \n"
      ],
      "execution_count": 0,
      "outputs": []
    },
    {
      "cell_type": "code",
      "metadata": {
        "id": "2lUhwnFro6a7",
        "colab_type": "code",
        "outputId": "061a35d8-0430-4fee-dd20-37af1fb3323a",
        "colab": {
          "base_uri": "https://localhost:8080/",
          "height": 193
        }
      },
      "source": [
        "# Chain of responsability of delegating which builder should be builded\n",
        "b = Builder()\n",
        "b.add_builder(Person(\"johnny the bug\",\"philosopher\"))\n",
        "b.add_builder(ImgPreprocessing(img = \"bugle\"))\n",
        "b.build()\n",
        "\n",
        "#  By adding a call to the delegator add_builder of chain class(parent) to the __call__ , you can use a call to the build in the exit of context\n",
        "#to sequentially build all added builders\n",
        "with Factory(\"infoss\") as fac:\n",
        "  fac(Person,\"johnny\",\"philosopher\")\n",
        "  fac(ImgPreprocessing, img = \"car\")\n"
      ],
      "execution_count": 35,
      "outputs": [
        {
          "output_type": "stream",
          "text": [
            "johnny the bug\n",
            "philosopher\n",
            "bugle\n",
            "infoss\n",
            "\n",
            "\n",
            "Exiting ...\n",
            "johnny\n",
            "philosopher\n",
            "car\n"
          ],
          "name": "stdout"
        }
      ]
    }
  ]
}