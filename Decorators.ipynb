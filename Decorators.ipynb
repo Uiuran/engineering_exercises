{
  "nbformat": 4,
  "nbformat_minor": 0,
  "metadata": {
    "colab": {
      "name": "Decorators.ipynb",
      "provenance": [],
      "collapsed_sections": [],
      "authorship_tag": "ABX9TyNfa59q1l4QD3rs+APglbb7",
      "include_colab_link": true
    },
    "kernelspec": {
      "name": "python3",
      "display_name": "Python 3"
    }
  },
  "cells": [
    {
      "cell_type": "markdown",
      "metadata": {
        "id": "view-in-github",
        "colab_type": "text"
      },
      "source": [
        "<a href=\"https://colab.research.google.com/github/Uiuran/engineering_exercises/blob/master/Decorators.ipynb\" target=\"_parent\"><img src=\"https://colab.research.google.com/assets/colab-badge.svg\" alt=\"Open In Colab\"/></a>"
      ]
    },
    {
      "cell_type": "markdown",
      "metadata": {
        "id": "UuHxPLbGvYXp",
        "colab_type": "text"
      },
      "source": [
        "# Decorators"
      ]
    },
    {
      "cell_type": "code",
      "metadata": {
        "id": "mOGLeBVjvGc2",
        "colab_type": "code",
        "colab": {
          "base_uri": "https://localhost:8080/",
          "height": 52
        },
        "outputId": "4cc69f3e-ddee-455d-8064-c83b2baaa18f"
      },
      "source": [
        "# This decorator extends any function to return a matrix with each element being the argments with the function opered\n",
        "def funcdec(func):\n",
        "  def wrapper(*args):      \n",
        "      if len(args)==2:\n",
        "        if issubclass(type(args[0]),list) and issubclass(type(args[1]),list):\n",
        "          return [ [func(j,l) for l in args[0]] for j in args[1]]\n",
        "        else:\n",
        "          raise Exception(\"Error: argments musts be lists.\")\n",
        "      else:\n",
        "          return \"Warning: not enough operands\"\n",
        "  return wrapper\n",
        "\n",
        "@funcdec\n",
        "def some_op(a,b):\n",
        "    return a+b\n",
        "  \n",
        "@funcdec\n",
        "def div(a,b):\n",
        "    return a//b\n",
        "\n",
        "print(some_op([10],[2]))\n",
        "print(div([10,20,4,7],[2,3]))"
      ],
      "execution_count": 16,
      "outputs": [
        {
          "output_type": "stream",
          "text": [
            "[[12]]\n",
            "[[0, 0, 0, 0], [0, 0, 0, 0]]\n"
          ],
          "name": "stdout"
        }
      ]
    },
    {
      "cell_type": "markdown",
      "metadata": {
        "id": "hzJjOGGs_Jvg",
        "colab_type": "text"
      },
      "source": [
        "# Decorators with argments ( a.k.a 3 level decorators )\n",
        "\n"
      ]
    },
    {
      "cell_type": "code",
      "metadata": {
        "id": "QJH-OvST_UQK",
        "colab_type": "code",
        "colab": {
          "base_uri": "https://localhost:8080/",
          "height": 72
        },
        "outputId": "b0de2ff0-4c77-43b0-8614-9e44f916c2a9"
      },
      "source": [
        "# This level passes arbitrary argments to the decorator\n",
        "allowed = ['power','p']\n",
        "def funcdec(*args,**kwargs):\n",
        "  power=1.\n",
        "  p = 0.5\n",
        "  for a in kwargs:\n",
        "    if a in allowed:\n",
        "      if a == 'power':\n",
        "        power=kwargs[a]\n",
        "      if a == 'p':\n",
        "        p=kwargs[a]\n",
        "    else:\n",
        "      raise Exception(\"Keyword arg not allowed\")\n",
        "      \n",
        "  #This level returns the decorator, the argment is the function that will have functionalities added\n",
        "  def decorator(func):\n",
        "\n",
        "    # this level adds functionality with inward argments and decorators outer argment\n",
        "    def wrapper(*inargs, **inkwargs):      \n",
        "        if len(inargs)==2:\n",
        "          if issubclass(type(inargs[0]),list) and issubclass(type(inargs[1]),list):\n",
        "            return [ [(func(l,j)/(len(inargs[0])*len(inargs[1])-p ))**power for l in inargs[0]] for j in inargs[1]]\n",
        "          else:\n",
        "            raise Exception(\"Error: argments musts be lists.\")\n",
        "        else:\n",
        "          return \"Warning: not enough operands\"\n",
        "    return wrapper\n",
        "  return decorator\n",
        "\n",
        "@funcdec()\n",
        "def some_op(a,b):\n",
        "    return a+b\n",
        "  \n",
        "@funcdec(p=2,power=1.4)\n",
        "def div(a,b):\n",
        "    return a//b\n",
        "\n",
        "print(some_op([10],[2]) )\n",
        "print(div([10,20,4,7],[2,4]))"
      ],
      "execution_count": 31,
      "outputs": [
        {
          "output_type": "stream",
          "text": [
            "[[24.0]]\n",
            "[[0.7747226539790469, 2.044505341160648, 0.21479800499241808, 0.37892914162759955], [0.21479800499241808, 0.7747226539790469, 0.08139322365509782, 0.08139322365509782]]\n"
          ],
          "name": "stdout"
        }
      ]
    },
    {
      "cell_type": "code",
      "metadata": {
        "id": "9k4CCPVu6R6Z",
        "colab_type": "code",
        "colab": {}
      },
      "source": [
        "# Template for Decorators Classes, using functions get set del attr e __iter__ __next__() to access classes file being passed\n",
        "# Good to compare against python decorators\n",
        "class FileWithLogging:\n",
        "\n",
        "  def __init__(self, file):\n",
        "    self.file = file\n",
        "\n",
        "  def writelines(self, strings):\n",
        "    self.file.writelines(strings)\n",
        "    print(f'wrote {len(strings)} lines')\n",
        "\n",
        "  def __iter__(self):\n",
        "    return self.file.__iter__()\n",
        "\n",
        "  def __next__(self):\n",
        "    return self.file.__next__()\n",
        "\n",
        "  def __getattr__(self, item):\n",
        "    return getattr(self.__dict__['file'], item)\n",
        "\n",
        "  def __setattr__(self, key, value):\n",
        "    if key == 'file':\n",
        "      self.__dict__[key] = value\n",
        "    else:\n",
        "      setattr(self.__dict__['file'], key)\n",
        "\n",
        "  def __delattr__(self, item):\n",
        "    delattr(self.__dict__['file'], item)\n"
      ],
      "execution_count": 0,
      "outputs": []
    },
    {
      "cell_type": "markdown",
      "metadata": {
        "id": "PbgmVnR27DJt",
        "colab_type": "text"
      },
      "source": [
        "# Class Decorator (Hybrid of the two above)\n",
        "\n",
        "Suppose you have a Class that inherit from more abstract parent, such an Audio stream. You can extend this class by using hybrid of classic decorator and python functional decorator without having to use inheritance. Here i implement simple statistics to it. \n",
        "\n",
        "The decorator receives argments as usual, returning a function that will pass an class to the new class augmenting its capabilities (as in classical decorators).\n",
        "\n",
        "Instantiating the new class generates an instance of the decorated class with new functions without the heritance."
      ]
    },
    {
      "cell_type": "code",
      "metadata": {
        "id": "ELzsbYFf7LhJ",
        "colab_type": "code",
        "colab": {
          "base_uri": "https://localhost:8080/",
          "height": 105
        },
        "outputId": "b2e71f0c-c502-40f9-f03b-332c5e325fed"
      },
      "source": [
        "import numpy as np\n",
        "allowed = ['power','p']\n",
        "# Decorator args\n",
        "def statsdec(*out,**outkwargs):\n",
        "  \n",
        "  power=1.\n",
        "  p = 0.5\n",
        "  for a in outkwargs:\n",
        "    if a in allowed:\n",
        "      if a == 'power':\n",
        "        power=outkwargs[a]\n",
        "      if a == 'p':\n",
        "        p=outkwargs[a]\n",
        "    else:\n",
        "      raise Exception(\"Keyword arg not allowed\")\n",
        "  # Receive the class being decorated\n",
        "  def decorated(Cls):\n",
        "\n",
        "    class Decclass(object):\n",
        "    \n",
        "      def __init__(self, *args, **kwargs):\n",
        "        self.processed = Cls(*args, **kwargs)\n",
        "\n",
        "      def stats(self):\n",
        "        l=len(self.processed.stream)\n",
        "        a=(np.mean(self.processed.stream)**power)/(l-p)\n",
        "        b=(np.std(self.processed.stream)**power)/(l-p)\n",
        "        return (a,b)        \n",
        "\n",
        "      def __iter__(self):\n",
        "        return self.processed.__iter__()\n",
        "  \n",
        "      def __next__(self):\n",
        "        return self.processed.__next__()\n",
        "  \n",
        "      def __getattr__(self, item):\n",
        "        if 'processed' in self.__dict__:\n",
        "          return getattr(self.__dict__['processed'], item)\n",
        "        else:      \n",
        "          return getattr(self, item)\n",
        "  \n",
        "      def __setattr__(self, key, value):\n",
        "        if key not in self.__dict__:\n",
        "          self.__dict__[key] = value\n",
        "        else:\n",
        "          setattr(self.__dict__['processed'][key], value)\n",
        "  \n",
        "      def __delattr__(self, item):\n",
        "        delattr(self.__dict__['processed'], item)        \n",
        "\n",
        "    return Decclass\n",
        "  return decorated\n",
        "\n",
        "class Stream(list):\n",
        "  def __init__(self, *args, **kwargs):\n",
        "    if 'streaming' in kwargs:\n",
        "      self.stream = kwargs['streaming'] \n",
        "    else:\n",
        "      self.stream = [1,2,3,1,2,3,1,2,3,1,2,3]\n",
        "\n",
        "# modify audio stream to produce statistics about the stream\n",
        "@statsdec(power = 0.5, p = 3)\n",
        "class AudioStream(Stream):\n",
        "  def __init__(self, *args, **kwargs):\n",
        "    super().__init__(*args,**kwargs)\n",
        "    print(\"streaming\")\n",
        "  def play(self):\n",
        "    print(self.stream)\n",
        "\n",
        "audiostream = AudioStream(streaming = [2,.4,3.,3.,2.0,3.0,1.0])\n",
        "audiostream.play()\n",
        "# Extended capabilities for statistics to have mean and std of the streaming\n",
        "print(audiostream.stats())\n",
        "\n",
        "audiostream.processed.stream = [0.2,3.,0.1,0.3,0.5,0.6]\n",
        "audiostream.play()\n",
        "print(audiostream.stats())"
      ],
      "execution_count": 11,
      "outputs": [
        {
          "output_type": "stream",
          "text": [
            "streaming\n",
            "[2, 0.4, 3.0, 3.0, 2.0, 3.0, 1.0]\n",
            "(0.3585685828003181, 0.24576073240107632)\n",
            "[0.2, 3.0, 0.1, 0.3, 0.5, 0.6]\n",
            "(0.2950204010522612, 0.3342783807895759)\n"
          ],
          "name": "stdout"
        }
      ]
    },
    {
      "cell_type": "markdown",
      "metadata": {
        "id": "ftKxX-JxIbgU",
        "colab_type": "text"
      },
      "source": [
        "# Conclusion\n",
        "\n",
        "Decorators are not simple adding functionalities as classical decorators, but functional decorators does entire new thing, using the decorated function somewhere inside the new thing. \n",
        "\n",
        "In adding new structure in Classes Classic Decorators, you can conserve the structure while adding argments, but apparently you cant define arbitrary argments like argments to the decorated function and to the decorator."
      ]
    }
  ]
}