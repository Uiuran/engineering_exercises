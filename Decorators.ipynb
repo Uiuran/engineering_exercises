{
  "nbformat": 4,
  "nbformat_minor": 0,
  "metadata": {
    "colab": {
      "name": "Decorators.ipynb",
      "provenance": [],
      "collapsed_sections": [],
      "authorship_tag": "ABX9TyMz2axjCT1GDGPpptG0Kyce",
      "include_colab_link": true
    },
    "kernelspec": {
      "name": "python3",
      "display_name": "Python 3"
    }
  },
  "cells": [
    {
      "cell_type": "markdown",
      "metadata": {
        "id": "view-in-github",
        "colab_type": "text"
      },
      "source": [
        "<a href=\"https://colab.research.google.com/github/Uiuran/engineering_exercises/blob/master/Decorators.ipynb\" target=\"_parent\"><img src=\"https://colab.research.google.com/assets/colab-badge.svg\" alt=\"Open In Colab\"/></a>"
      ]
    },
    {
      "cell_type": "markdown",
      "metadata": {
        "id": "UuHxPLbGvYXp",
        "colab_type": "text"
      },
      "source": [
        "# Decorators"
      ]
    },
    {
      "cell_type": "code",
      "metadata": {
        "id": "mOGLeBVjvGc2",
        "colab_type": "code",
        "colab": {
          "base_uri": "https://localhost:8080/",
          "height": 52
        },
        "outputId": "4cc69f3e-ddee-455d-8064-c83b2baaa18f"
      },
      "source": [
        "# This decorator extends any function to return a matrix with each element being the argments with the function opered\n",
        "def funcdec(func):\n",
        "  def wrapper(*args):      \n",
        "      if len(args)==2:\n",
        "        if issubclass(type(args[0]),list) and issubclass(type(args[1]),list):\n",
        "          return [ [func(j,l) for l in args[0]] for j in args[1]]\n",
        "        else:\n",
        "          raise Exception(\"Error: argments musts be lists.\")\n",
        "      else:\n",
        "          return \"Warning: not enough operands\"\n",
        "  return wrapper\n",
        "\n",
        "@funcdec\n",
        "def some_op(a,b):\n",
        "    return a+b\n",
        "  \n",
        "@funcdec\n",
        "def div(a,b):\n",
        "    return a//b\n",
        "\n",
        "print(some_op([10],[2]))\n",
        "print(div([10,20,4,7],[2,3]))"
      ],
      "execution_count": 16,
      "outputs": [
        {
          "output_type": "stream",
          "text": [
            "[[12]]\n",
            "[[0, 0, 0, 0], [0, 0, 0, 0]]\n"
          ],
          "name": "stdout"
        }
      ]
    },
    {
      "cell_type": "markdown",
      "metadata": {
        "id": "hzJjOGGs_Jvg",
        "colab_type": "text"
      },
      "source": [
        "# Decorators with argments ( a.k.a 3 level decorators )\n",
        "\n"
      ]
    },
    {
      "cell_type": "code",
      "metadata": {
        "id": "QJH-OvST_UQK",
        "colab_type": "code",
        "colab": {
          "base_uri": "https://localhost:8080/",
          "height": 72
        },
        "outputId": "b0de2ff0-4c77-43b0-8614-9e44f916c2a9"
      },
      "source": [
        "# This level passes arbitrary argments to the decorator\n",
        "allowed = ['power','p']\n",
        "def funcdec(*args,**kwargs):\n",
        "  power=1.\n",
        "  p = 0.5\n",
        "  for a in kwargs:\n",
        "    if a in allowed:\n",
        "      if a == 'power':\n",
        "        power=kwargs[a]\n",
        "      if a == 'p':\n",
        "        p=kwargs[a]\n",
        "    else:\n",
        "      raise Exception(\"Keyword arg not allowed\")\n",
        "      \n",
        "  #This level returns the decorator, the argment is the function that will have functionalities added\n",
        "  def decorator(func):\n",
        "\n",
        "    # this level adds functionality with inward argments and decorators outer argment\n",
        "    def wrapper(*inargs, **inkwargs):      \n",
        "        if len(inargs)==2:\n",
        "          if issubclass(type(inargs[0]),list) and issubclass(type(inargs[1]),list):\n",
        "            return [ [(func(l,j)/(len(inargs[0])*len(inargs[1])-p ))**power for l in inargs[0]] for j in inargs[1]]\n",
        "          else:\n",
        "            raise Exception(\"Error: argments musts be lists.\")\n",
        "        else:\n",
        "          return \"Warning: not enough operands\"\n",
        "    return wrapper\n",
        "  return decorator\n",
        "\n",
        "@funcdec()\n",
        "def some_op(a,b):\n",
        "    return a+b\n",
        "  \n",
        "@funcdec(p=2,power=1.4)\n",
        "def div(a,b):\n",
        "    return a//b\n",
        "\n",
        "print(some_op([10],[2]) )\n",
        "print(div([10,20,4,7],[2,4]))"
      ],
      "execution_count": 31,
      "outputs": [
        {
          "output_type": "stream",
          "text": [
            "[[24.0]]\n",
            "[[0.7747226539790469, 2.044505341160648, 0.21479800499241808, 0.37892914162759955], [0.21479800499241808, 0.7747226539790469, 0.08139322365509782, 0.08139322365509782]]\n"
          ],
          "name": "stdout"
        }
      ]
    },
    {
      "cell_type": "code",
      "metadata": {
        "id": "9k4CCPVu6R6Z",
        "colab_type": "code",
        "colab": {}
      },
      "source": [
        "# Template for Decorators Classes, using functions get set del attr e __iter__ __next__() to access classes file being passed\n",
        "# Good to compare against python decorators\n",
        "class FileWithLogging:\n",
        "\n",
        "  def __init__(self, file):\n",
        "    self.file = file\n",
        "\n",
        "  def writelines(self, strings):\n",
        "    self.file.writelines(strings)\n",
        "    print(f'wrote {len(strings)} lines')\n",
        "\n",
        "  def __iter__(self):\n",
        "    return self.file.__iter__()\n",
        "\n",
        "  def __next__(self):\n",
        "    return self.file.__next__()\n",
        "\n",
        "  def __getattr__(self, item):\n",
        "    return getattr(self.__dict__['file'], item)\n",
        "\n",
        "  def __setattr__(self, key, value):\n",
        "    if key == 'file':\n",
        "      self.__dict__[key] = value\n",
        "    else:\n",
        "      setattr(self.__dict__['file'], key)\n",
        "\n",
        "  def __delattr__(self, item):\n",
        "    delattr(self.__dict__['file'], item)\n"
      ],
      "execution_count": 0,
      "outputs": []
    },
    {
      "cell_type": "markdown",
      "metadata": {
        "id": "ftKxX-JxIbgU",
        "colab_type": "text"
      },
      "source": [
        "# Conclusion\n",
        "\n",
        "Decorators are not simple adding functionalities as classical decorators, but functional decorators does entire new thing, using the decorated function somewhere inside the new thing. \n",
        "\n",
        "In adding new structure in Classes Classic Decorators, you can conserve the structure while adding argments, but apparently you cant define arbitrary argments like argments to the decorated function and to the decorator."
      ]
    }
  ]
}