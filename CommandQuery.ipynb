{
  "nbformat": 4,
  "nbformat_minor": 0,
  "metadata": {
    "colab": {
      "name": "CommandQuery",
      "provenance": [],
      "collapsed_sections": [],
      "authorship_tag": "ABX9TyMEsGht9Mr3UM971e3kvYg8",
      "include_colab_link": true
    },
    "kernelspec": {
      "name": "python3",
      "display_name": "Python 3"
    }
  },
  "cells": [
    {
      "cell_type": "markdown",
      "metadata": {
        "id": "view-in-github",
        "colab_type": "text"
      },
      "source": [
        "<a href=\"https://colab.research.google.com/github/Uiuran/engineering_exercises/blob/master/CommandQuery.ipynb\" target=\"_parent\"><img src=\"https://colab.research.google.com/assets/colab-badge.svg\" alt=\"Open In Colab\"/></a>"
      ]
    },
    {
      "cell_type": "markdown",
      "metadata": {
        "id": "yls17i7jgXNX",
        "colab_type": "text"
      },
      "source": [
        "# Command and Query\n",
        "\n"
      ]
    },
    {
      "cell_type": "code",
      "metadata": {
        "id": "VcyAQ5OV7NGY",
        "colab_type": "code",
        "colab": {}
      },
      "source": [
        "#Structure to define specific query, a builder\n",
        "class Builder:\n",
        "  def __init__(self):\n",
        "      ''' \n",
        "        Implement an abstract builder as chain of responsability\n",
        "\n",
        "        For that each next_builder will be a instance inheriting Builder itself.\n",
        "        add_builder function delegates the task of building to next builder by using add_builder inherited or\n",
        "          by assigning to it if next_builder is None (i.e. the abstract class was called to create the inherited object but no builder was added yet).\n",
        "        \n",
        "        build() handles the task by calling the overriding method of the builder child classes through the recursive build classes of the parent.\n",
        "\n",
        "      '''\n",
        "      \n",
        "      #self.person = Person()\n",
        "      self.next_builder = None\n",
        "\n",
        "  def build(self, *args, **kwargs):\n",
        "      if self.next_builder:\n",
        "          return self.next_builder.build(*args,**kwargs)\n",
        "\n",
        "  def add_builder(self, builder):\n",
        "      if self.next_builder:\n",
        "        self.next_builder.add_builder(builder)\n",
        "      else:\n",
        "        self.next_builder = builder\n",
        "\n",
        "# Job sender, sends any type of information, defined as query, query in this case can be an builder\n",
        "class ImgPreprocessing:\n",
        "\n",
        "  def __init__(self, *args,**kwargs):\n",
        "      self.name = None\n",
        "      self.img = None\n",
        "      self.worker = None\n",
        "      if \"name\" in kwargs:\n",
        "        self.name = kwargs[\"name\"]\n",
        "      if \"imgs\" in kwargs:\n",
        "        self.imgs = kwargs[\"imgs\"]\n",
        "      if \"worker\" in kwargs:\n",
        "        self.worker = kwargs[\"worker\"]   \n",
        "\n",
        "      self.q = Query(name=self.name,imgs=self.imgs)\n",
        "      self.worker.queries.append(self.q)  \n",
        "\n",
        "  def apply(self):\n",
        "      '''\n",
        "       Instead of calling Builder itself, sends to client, event broker, to do the query.\n",
        "      '''          \n",
        "      self.worker.perform_query(self, self.q)                   \n",
        "      return self\n",
        "\n",
        "class StreamParams:\n",
        "\n",
        "  def __init__(self, *args,**kwargs):\n",
        "      self.name = None\n",
        "      self.params = None\n",
        "      self.worker = None\n",
        "      if \"name\" in kwargs:\n",
        "        self.name = kwargs[\"name\"]\n",
        "      if \"params\" in kwargs:\n",
        "        self.params = kwargs[\"params\"]\n",
        "      if \"worker\" in kwargs:\n",
        "        self.worker = kwargs[\"worker\"]  \n",
        "\n",
        "      self.q = Query(name=self.name,params=self.params)\n",
        "      self.worker.queries.append(self.q)  \n",
        "\n",
        "  def apply(self):\n",
        "      '''\n",
        "       Instead of calling Builder itself, sends to client, event broker, to do the query.\n",
        "      '''    \n",
        "      self.worker.perform_query(self, self.q)                   \n",
        "      return self\n",
        "\n",
        "#   Query defined anywhere else. A builder as example.\n",
        "class Query(Builder):\n",
        "    def __init__(self,*args, **kwargs):\n",
        "        super().__init__()\n",
        "        self.imgs = None\n",
        "        self.params = None\n",
        "        if \"imgs\" in kwargs:\n",
        "            self.imgs = kwargs[\"imgs\"]\n",
        "        if \"params\" in kwargs:\n",
        "            self.params = kwargs[\"params\"]\n",
        "        if \"name\" in kwargs:\n",
        "            self.name = kwargs[\"name\"]\n",
        "\n",
        "    def __call__(self, *args, **kwargs):                \n",
        "        if self.imgs:\n",
        "            print(self.imgs)\n",
        "        if self.params:\n",
        "            print(self.params)\n",
        "        super().build(*args,**kwargs)\n",
        "\n",
        "# Event broker, worker\n",
        "class Event(list):\n",
        "    def __call__(self, *args, **kwargs):\n",
        "        for item in self:            \n",
        "            item(*args, **kwargs)\n",
        "        \n",
        "# Query performer, receives information about sender and the query to be performed (usually named worker)\n",
        "class Worker:\n",
        "    def __init__(self):\n",
        "        self.queries = Event()\n",
        "\n",
        "    def perform_query(self,sender, query): \n",
        "        print(sender.name)\n",
        "        self.queries(sender, query)"
      ],
      "execution_count": 0,
      "outputs": []
    },
    {
      "cell_type": "code",
      "metadata": {
        "id": "a2r3HwTVI2Fd",
        "colab_type": "code",
        "colab": {
          "base_uri": "https://localhost:8080/",
          "height": 175
        },
        "outputId": "5f91dfa1-e356-4587-d8df-49564e235b12"
      },
      "source": [
        "w = Worker()\n",
        "\n",
        "# Senders receives worker object instantiated where the image will be processed\n",
        "# since their query are builders chained together and allocated in worker w, when they send to worker the query is solved as a Chain Block\n",
        "sender1 = ImgPreprocessing(name=\"img processor\", worker=w, imgs = \"images to be processed\")\n",
        "sender2 = StreamParams(name=\"stream requirer\",worker=w, params = \"some parametrization\")\n",
        "\n",
        "# senders sends imgs and information about itself to the worker, worker performs and print information about the sender.\n",
        "sender2.apply()\n",
        "print(\"\\n\")\n",
        "sender1.apply()"
      ],
      "execution_count": 113,
      "outputs": [
        {
          "output_type": "stream",
          "text": [
            "stream requirer\n",
            "images to be processed\n",
            "some parametrization\n",
            "\n",
            "\n",
            "img processor\n",
            "images to be processed\n",
            "some parametrization\n"
          ],
          "name": "stdout"
        },
        {
          "output_type": "execute_result",
          "data": {
            "text/plain": [
              "<__main__.ImgPreprocessing at 0x7f8b95672dd8>"
            ]
          },
          "metadata": {
            "tags": []
          },
          "execution_count": 113
        }
      ]
    }
  ]
}