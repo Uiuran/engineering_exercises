{
  "nbformat": 4,
  "nbformat_minor": 0,
  "metadata": {
    "colab": {
      "name": "CommandQuery",
      "provenance": [],
      "collapsed_sections": [],
      "authorship_tag": "ABX9TyNt0SMWMOLZD8X/fXzehXvu",
      "include_colab_link": true
    },
    "kernelspec": {
      "name": "python3",
      "display_name": "Python 3"
    }
  },
  "cells": [
    {
      "cell_type": "markdown",
      "metadata": {
        "id": "view-in-github",
        "colab_type": "text"
      },
      "source": [
        "<a href=\"https://colab.research.google.com/github/Uiuran/engineering_exercises/blob/master/CommandQuery.ipynb\" target=\"_parent\"><img src=\"https://colab.research.google.com/assets/colab-badge.svg\" alt=\"Open In Colab\"/></a>"
      ]
    },
    {
      "cell_type": "markdown",
      "metadata": {
        "id": "yls17i7jgXNX",
        "colab_type": "text"
      },
      "source": [
        "# Command and Query\n",
        "\n"
      ]
    },
    {
      "cell_type": "code",
      "metadata": {
        "id": "VcyAQ5OV7NGY",
        "colab_type": "code",
        "colab": {}
      },
      "source": [
        "#Structure to define specific query, a builder\n",
        "class Builder:\n",
        "  def __init__(self):\n",
        "      ''' \n",
        "        Implement an abstract builder as chain of responsability\n",
        "\n",
        "        For that each next_builder will be a instance inheriting Builder itself.\n",
        "        add_builder function delegates the task of building to next builder by using add_builder inherited or\n",
        "          by assigning to it if next_builder is None (i.e. the abstract class was called to create the inherited object but no builder was added yet).\n",
        "        \n",
        "        build() handles the task by calling the overriding method of the builder child classes through the recursive build classes of the parent.\n",
        "\n",
        "      '''\n",
        "      \n",
        "      #self.person = Person()\n",
        "      self.next_builder = None\n",
        "\n",
        "  def build(self, *args, **kwargs):\n",
        "      if self.next_builder:\n",
        "          return self.next_builder.build(*args,**kwargs)\n",
        "\n",
        "  def add_builder(self, builder):\n",
        "      if self.next_builder:\n",
        "        self.next_builder.add_builder(builder)\n",
        "      else:\n",
        "        self.next_builder = builder\n",
        "\n",
        "# Job sender, sends any type of information, defined as query, query in this case can be an builder\n",
        "class ImgPreprocessing:\n",
        "\n",
        "  def __init__(self, *args,**kwargs):\n",
        "      self.img = None\n",
        "      self.client = None\n",
        "      if \"imgs\" in kwargs:\n",
        "        self.imgs = kwargs[\"imgs\"]\n",
        "      if \"worker\" in kwargs:\n",
        "        self.worker = kwargs[\"worker\"]    \n",
        "\n",
        "  def apply_img(self):\n",
        "      '''\n",
        "       Instead of calling Builder itself, sends to client, event broker, to do the query.\n",
        "      '''    \n",
        "      q = Query(imgs=self.imgs)\n",
        "      self.worker.queries.append(q)\n",
        "      self.worker.perform_query(self, q)                   \n",
        "      return self\n",
        "\n",
        "#   Query defined anywhere else. A builder as example.\n",
        "class Query(Builder):\n",
        "    def __init__(self,*args, **kwargs):\n",
        "        super().__init__()\n",
        "        if \"imgs\" in kwargs:\n",
        "          self.imgs = kwargs[\"imgs\"]\n",
        "\n",
        "    def __call__(self, *args, **kwargs):\n",
        "        print(self.imgs)\n",
        "        super().build(*args,**kwargs)\n",
        "\n",
        "# Event broker, worker\n",
        "class Event(list):\n",
        "    def __call__(self, *args, **kwargs):\n",
        "        for item in self:            \n",
        "            item(*args, **kwargs)\n",
        "        \n",
        "# Query performer, receives information about sender and the query to be performed (usually named worker)\n",
        "class Worker:\n",
        "    def __init__(self):\n",
        "        self.queries = Event()\n",
        "\n",
        "    def perform_query(self,sender, query):\n",
        "        self.queries(sender, query)"
      ],
      "execution_count": 0,
      "outputs": []
    },
    {
      "cell_type": "code",
      "metadata": {
        "id": "a2r3HwTVI2Fd",
        "colab_type": "code",
        "colab": {
          "base_uri": "https://localhost:8080/",
          "height": 52
        },
        "outputId": "39c62511-89ef-4d82-aa4d-b782effa020e"
      },
      "source": [
        "w = Worker()\n",
        "\n",
        "# Sender receives worker object instantiated where the image will be processed\n",
        "sender = ImgPreprocessing(worker=w, imgs = \"images to be processed\")\n",
        "\n",
        "# sender sends imgs and information about itself to the worker, worker performs\n",
        "sender.apply_img()"
      ],
      "execution_count": 85,
      "outputs": [
        {
          "output_type": "stream",
          "text": [
            "images to be processed\n"
          ],
          "name": "stdout"
        },
        {
          "output_type": "execute_result",
          "data": {
            "text/plain": [
              "<__main__.ImgPreprocessing at 0x7f8b96f0cac8>"
            ]
          },
          "metadata": {
            "tags": []
          },
          "execution_count": 85
        }
      ]
    }
  ]
}